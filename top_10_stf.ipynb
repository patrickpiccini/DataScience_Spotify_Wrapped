{
 "cells": [
  {
   "cell_type": "markdown",
   "id": "b70530ea-5733-485c-9e01-8bd45b2aebcd",
   "metadata": {
    "tags": []
   },
   "source": [
    "# Projeto Spotify Wrapped \n",
    "\n",
    "Recentemente venho estudando a área de Data Science, Data Analytics e as várias derivações de inteligência artificial, e descobri um grande interesse por esse mundo. Foi então que decidi inicia pequeno projeto onde eu possa praticar meus conhecimentos aprendidos, e também mostrar como o nosso cotidiano está repleto de tecnologia aplicada sobre inteligência artificial.\n",
    "\n",
    "O que iremos aprender:\n",
    "- Extração\n",
    "- Exploração\n",
    "- Limpeza\n",
    "- Agregação\n",
    "- Storytelling\n",
    "\n",
    "### O que é spotify wrapped\n",
    "Hoje, venho mostrar um projeto utilizando a plataforma de streaming de música mais utilizada no mundo, o Spotify. Iremos criar um recorço semelhante ao que o Spotify disponibiliza, chamada \"Spotify Wrapped\", que nada mais é do que uma retrospectiva das músicas, artistas entro outros, mais ouvidos durante o seu ano.\n",
    "\n",
    "<img src=\"images/2022-05-19 19_20_48-Window.png\" alt=\"drawing\" width=\"600\"/>\n",
    "\n",
    "### DataSet\n",
    "Nesse projeto irei utilizar o meu DataSet pessoal de meu perfil do Spotify. Para conseguir as suas informações pessoais, basta ir nas [Configurações de Privacidade](https://www.spotify.com/br/account/privacy/) da sua conta, e no final da página, seguir os passos para solicitação de seus dados. Dentro de alguns dias, você recebera por e-mail a confinação para baixas seus dados.\n",
    "\n",
    "<img src=\"images/2022-05-19 19_21_51-Window.png\" alt=\"drawing\" width=\"900\"/>\n",
    "\n",
    "\n",
    "## Exploratory Data Analysis (EDA)\n",
    "O que faremos hoje, será trabalha com um conceito primordial para o papel de um analista de dados, a análise Exploratória de dados(EAD).\n",
    "- A EAD é um processo de analisar e resumir de forma detalhada um DataSet ou conjunto de dados. O objetivo é por várias técnicas, extrair informações precisas e claras, para a extração de _insights_.\n",
    "\n",
    "\n",
    "Antes de começar a analisar, importaremos as bibliotecas que iremos utilizar, e também carregar nosso dataset.\n",
    "\n",
    " Como padrão, o spotify disponibiliza todas as informações em formato JSON, como observamos no exemplo abaixo:"
   ]
  },
  {
   "cell_type": "code",
   "execution_count": 75,
   "id": "189da311-2cc3-4504-967e-bb8d19e2eaa9",
   "metadata": {
    "tags": []
   },
   "outputs": [
    {
     "data": {
      "text/plain": [
       "{'endTime': '2021-04-29 03:33',\n",
       " 'artistName': 'Tame Impala',\n",
       " 'trackName': 'Let It Happen',\n",
       " 'msPlayed': 345700}"
      ]
     },
     "execution_count": 75,
     "metadata": {},
     "output_type": "execute_result"
    }
   ],
   "source": [
    "{\n",
    "  \"endTime\" : \"2021-04-29 03:33\",\n",
    "  \"artistName\" : \"Tame Impala\",\n",
    "  \"trackName\" : \"Let It Happen\",\n",
    "  \"msPlayed\" : 345700\n",
    "}"
   ]
  },
  {
   "cell_type": "markdown",
   "id": "8f1df6a5-98e2-4e35-8566-ac4458c76142",
   "metadata": {},
   "source": [
    "### Como índices temos:\n",
    "-  endTime - Data e hora em que o fluxo terminou no formato UTC (Fuso Horário Universal Coordenado).\n",
    "-  artistName - Nome do \"criador\" para cada fluxo (por exemplo, o nome do artista se for uma faixa de música).\n",
    "-  trackName - Nome dos itens ouvidos ou assistidos (por exemplo, título da faixa de música ou nome do vídeo).\n",
    "-  msPlayed - “msPlayed”- Representa quantos milissegundos a faixa foi ouvida pelo usuário.\n",
    "\n",
    "# Extração\n"
   ]
  },
  {
   "cell_type": "code",
   "execution_count": 76,
   "id": "40ffb541-8146-43bc-9eb7-827312b052e6",
   "metadata": {},
   "outputs": [
    {
     "name": "stdout",
     "output_type": "stream",
     "text": [
      "dataframe0: (10000, 4)\n",
      "dataframe1: (10000, 4)\n",
      "dataframe2: (7154, 4)\n"
     ]
    }
   ],
   "source": [
    "import pandas as pd\n",
    "import seaborn as sns\n",
    "import matplotlib.pyplot as plt\n",
    "from datetime import timedelta, datetime\n",
    "\n",
    "dataframe0 = pd.read_json('./data-frame/StreamingHistory0.json')\n",
    "dataframe1 = pd.read_json('./data-frame/StreamingHistory1.json')\n",
    "dataframe2 = pd.read_json('./data-frame/StreamingHistory2.json')\n",
    "print(f\"dataframe0: {dataframe0.shape}\\ndataframe1: {dataframe1.shape}\\ndataframe2: {dataframe2.shape}\")"
   ]
  },
  {
   "cell_type": "markdown",
   "id": "4683fdbd-8ddb-40da-aa30-49e12714976a",
   "metadata": {},
   "source": [
    "Como quero fazer uma análise completa, irei concatenar dos dataframes, transformando-os apenas em um."
   ]
  },
  {
   "cell_type": "code",
   "execution_count": 77,
   "id": "9182c559-1358-4d70-ae17-3c1a2dffe0a0",
   "metadata": {},
   "outputs": [
    {
     "name": "stdout",
     "output_type": "stream",
     "text": [
      "Novo DataFrame: (27154, 4)\n"
     ]
    }
   ],
   "source": [
    "sptf = pd.concat([dataframe0,dataframe1,dataframe2], ignore_index=True)\n",
    "print(f\"Novo DataFrame: {sptf.shape}\")"
   ]
  },
  {
   "cell_type": "markdown",
   "id": "5740da23-422e-44ac-9055-7396c1432192",
   "metadata": {},
   "source": [
    "Como podemos ver, foi concatenado os 3 dataframes, somando um total de 27154 linhas, e 4 colunas.\n",
    "\n",
    "O que faremos agora, é olhar para os dados que temos, e explorar essas informações que temos.\n",
    "# Exploração"
   ]
  },
  {
   "cell_type": "code",
   "execution_count": 78,
   "id": "294d553c-6d7c-4661-81ba-f2f22efc6f7a",
   "metadata": {},
   "outputs": [
    {
     "data": {
      "text/html": [
       "<div>\n",
       "<style scoped>\n",
       "    .dataframe tbody tr th:only-of-type {\n",
       "        vertical-align: middle;\n",
       "    }\n",
       "\n",
       "    .dataframe tbody tr th {\n",
       "        vertical-align: top;\n",
       "    }\n",
       "\n",
       "    .dataframe thead th {\n",
       "        text-align: right;\n",
       "    }\n",
       "</style>\n",
       "<table border=\"1\" class=\"dataframe\">\n",
       "  <thead>\n",
       "    <tr style=\"text-align: right;\">\n",
       "      <th></th>\n",
       "      <th>endTime</th>\n",
       "      <th>artistName</th>\n",
       "      <th>trackName</th>\n",
       "      <th>msPlayed</th>\n",
       "    </tr>\n",
       "  </thead>\n",
       "  <tbody>\n",
       "    <tr>\n",
       "      <th>0</th>\n",
       "      <td>2021-04-29 03:33</td>\n",
       "      <td>Tame Impala</td>\n",
       "      <td>Let It Happen</td>\n",
       "      <td>345700</td>\n",
       "    </tr>\n",
       "    <tr>\n",
       "      <th>1</th>\n",
       "      <td>2021-04-30 12:08</td>\n",
       "      <td>Tame Impala</td>\n",
       "      <td>The Less I Know The Better</td>\n",
       "      <td>216320</td>\n",
       "    </tr>\n",
       "    <tr>\n",
       "      <th>2</th>\n",
       "      <td>2021-04-30 12:35</td>\n",
       "      <td>Tame Impala</td>\n",
       "      <td>Borderline</td>\n",
       "      <td>146885</td>\n",
       "    </tr>\n",
       "    <tr>\n",
       "      <th>3</th>\n",
       "      <td>2021-04-30 18:25</td>\n",
       "      <td>Mc Mr. Bim</td>\n",
       "      <td>Eu Que Sabotei</td>\n",
       "      <td>4820</td>\n",
       "    </tr>\n",
       "    <tr>\n",
       "      <th>4</th>\n",
       "      <td>2021-04-30 18:25</td>\n",
       "      <td>Tame Impala</td>\n",
       "      <td>Borderline</td>\n",
       "      <td>292290</td>\n",
       "    </tr>\n",
       "  </tbody>\n",
       "</table>\n",
       "</div>"
      ],
      "text/plain": [
       "            endTime   artistName                   trackName  msPlayed\n",
       "0  2021-04-29 03:33  Tame Impala               Let It Happen    345700\n",
       "1  2021-04-30 12:08  Tame Impala  The Less I Know The Better    216320\n",
       "2  2021-04-30 12:35  Tame Impala                  Borderline    146885\n",
       "3  2021-04-30 18:25   Mc Mr. Bim              Eu Que Sabotei      4820\n",
       "4  2021-04-30 18:25  Tame Impala                  Borderline    292290"
      ]
     },
     "execution_count": 78,
     "metadata": {},
     "output_type": "execute_result"
    }
   ],
   "source": [
    "sptf.head()"
   ]
  },
  {
   "cell_type": "code",
   "execution_count": 79,
   "id": "a1d0879d-7191-461b-8601-ef65682097c2",
   "metadata": {},
   "outputs": [
    {
     "data": {
      "text/plain": [
       "Index(['endTime', 'artistName', 'trackName', 'msPlayed'], dtype='object')"
      ]
     },
     "execution_count": 79,
     "metadata": {},
     "output_type": "execute_result"
    }
   ],
   "source": [
    "sptf.columns"
   ]
  },
  {
   "cell_type": "code",
   "execution_count": 80,
   "id": "10620855-91f0-4ec1-8021-0faa1fb9e54c",
   "metadata": {},
   "outputs": [
    {
     "data": {
      "text/plain": [
       "endTime       object\n",
       "artistName    object\n",
       "trackName     object\n",
       "msPlayed       int64\n",
       "dtype: object"
      ]
     },
     "execution_count": 80,
     "metadata": {},
     "output_type": "execute_result"
    }
   ],
   "source": [
    "sptf.dtypes"
   ]
  },
  {
   "cell_type": "markdown",
   "id": "877173fc-7aff-442e-b60d-c395ef3cc18c",
   "metadata": {},
   "source": [
    "Nas colunas que são _object_ podemos pressupor serem textos, e na coluna que é _int64_ um número inteiro.\n",
    "- Estatísticas descritivas.\n",
    "\n",
    "Para termos uma visão mais panorâmica do nosso DataSet podemos utilizar o comando describe(). Com ele conseguimos extrair as informações básicas como quantidade, média, minha e máxima, alguns percentuais e std. Esse comando visa, gerar estatísticas descritivas de nosso DataSet. Também pode ser aplicado individualmente com apenas uma coluna.\n",
    "\n",
    "Como ha apenas o msPlayer como um valor numérico, todos esses cálculos serão feitos apenas pobre ele."
   ]
  },
  {
   "cell_type": "code",
   "execution_count": 81,
   "id": "277ffb77-9532-4b5e-924c-5d15466236a0",
   "metadata": {},
   "outputs": [
    {
     "data": {
      "text/html": [
       "<div>\n",
       "<style scoped>\n",
       "    .dataframe tbody tr th:only-of-type {\n",
       "        vertical-align: middle;\n",
       "    }\n",
       "\n",
       "    .dataframe tbody tr th {\n",
       "        vertical-align: top;\n",
       "    }\n",
       "\n",
       "    .dataframe thead th {\n",
       "        text-align: right;\n",
       "    }\n",
       "</style>\n",
       "<table border=\"1\" class=\"dataframe\">\n",
       "  <thead>\n",
       "    <tr style=\"text-align: right;\">\n",
       "      <th></th>\n",
       "      <th>msPlayed</th>\n",
       "    </tr>\n",
       "  </thead>\n",
       "  <tbody>\n",
       "    <tr>\n",
       "      <th>count</th>\n",
       "      <td>2.715400e+04</td>\n",
       "    </tr>\n",
       "    <tr>\n",
       "      <th>mean</th>\n",
       "      <td>1.382141e+05</td>\n",
       "    </tr>\n",
       "    <tr>\n",
       "      <th>std</th>\n",
       "      <td>1.276086e+05</td>\n",
       "    </tr>\n",
       "    <tr>\n",
       "      <th>min</th>\n",
       "      <td>0.000000e+00</td>\n",
       "    </tr>\n",
       "    <tr>\n",
       "      <th>25%</th>\n",
       "      <td>1.397000e+04</td>\n",
       "    </tr>\n",
       "    <tr>\n",
       "      <th>50%</th>\n",
       "      <td>1.559640e+05</td>\n",
       "    </tr>\n",
       "    <tr>\n",
       "      <th>75%</th>\n",
       "      <td>1.997010e+05</td>\n",
       "    </tr>\n",
       "    <tr>\n",
       "      <th>max</th>\n",
       "      <td>1.088158e+07</td>\n",
       "    </tr>\n",
       "  </tbody>\n",
       "</table>\n",
       "</div>"
      ],
      "text/plain": [
       "           msPlayed\n",
       "count  2.715400e+04\n",
       "mean   1.382141e+05\n",
       "std    1.276086e+05\n",
       "min    0.000000e+00\n",
       "25%    1.397000e+04\n",
       "50%    1.559640e+05\n",
       "75%    1.997010e+05\n",
       "max    1.088158e+07"
      ]
     },
     "execution_count": 81,
     "metadata": {},
     "output_type": "execute_result"
    }
   ],
   "source": [
    "sptf.describe()"
   ]
  },
  {
   "cell_type": "code",
   "execution_count": 82,
   "id": "2b001dc9-6cdb-41f9-b3f0-f40f9d410231",
   "metadata": {},
   "outputs": [
    {
     "data": {
      "text/plain": [
       "endTime                        2021-04-29 03:33\n",
       "artistName                      #TeuFuturo Cast\n",
       "trackName      Som de chuva - dormir, relaxar  \n",
       "msPlayed                                      0\n",
       "dtype: object"
      ]
     },
     "execution_count": 82,
     "metadata": {},
     "output_type": "execute_result"
    }
   ],
   "source": [
    "sptf.min()"
   ]
  },
  {
   "cell_type": "markdown",
   "id": "24bbf355-cc78-435e-9842-6ce18e84b2b3",
   "metadata": {},
   "source": [
    "Como podemos notar acima, o valor mínimo de msPlayed é 0(Zero), então vamos verificar se essas informações estão corretas."
   ]
  },
  {
   "cell_type": "code",
   "execution_count": 83,
   "id": "4f846d3e-ad87-428a-97e6-f8850a557405",
   "metadata": {},
   "outputs": [
    {
     "data": {
      "text/html": [
       "<div>\n",
       "<style scoped>\n",
       "    .dataframe tbody tr th:only-of-type {\n",
       "        vertical-align: middle;\n",
       "    }\n",
       "\n",
       "    .dataframe tbody tr th {\n",
       "        vertical-align: top;\n",
       "    }\n",
       "\n",
       "    .dataframe thead th {\n",
       "        text-align: right;\n",
       "    }\n",
       "</style>\n",
       "<table border=\"1\" class=\"dataframe\">\n",
       "  <thead>\n",
       "    <tr style=\"text-align: right;\">\n",
       "      <th></th>\n",
       "      <th>endTime</th>\n",
       "      <th>artistName</th>\n",
       "      <th>trackName</th>\n",
       "      <th>msPlayed</th>\n",
       "    </tr>\n",
       "  </thead>\n",
       "  <tbody>\n",
       "    <tr>\n",
       "      <th>18</th>\n",
       "      <td>2021-05-02 22:49</td>\n",
       "      <td>Mc Livinho</td>\n",
       "      <td>Ela é Espetacular (Mulher Kama Sutra 2)</td>\n",
       "      <td>0</td>\n",
       "    </tr>\n",
       "    <tr>\n",
       "      <th>19</th>\n",
       "      <td>2021-05-02 22:49</td>\n",
       "      <td>Mc Don Juan</td>\n",
       "      <td>Preta do Cabelo Cacheado</td>\n",
       "      <td>0</td>\n",
       "    </tr>\n",
       "    <tr>\n",
       "      <th>20</th>\n",
       "      <td>2021-05-02 22:49</td>\n",
       "      <td>Malu</td>\n",
       "      <td>Disco Arranhado - Funk Remix</td>\n",
       "      <td>0</td>\n",
       "    </tr>\n",
       "    <tr>\n",
       "      <th>225</th>\n",
       "      <td>2021-05-09 00:07</td>\n",
       "      <td>2STRANGE</td>\n",
       "      <td>Quantas Vezes?</td>\n",
       "      <td>0</td>\n",
       "    </tr>\n",
       "    <tr>\n",
       "      <th>341</th>\n",
       "      <td>2021-05-09 04:58</td>\n",
       "      <td>Deejay Lucca</td>\n",
       "      <td>Vai no Chão Com o Rabetão</td>\n",
       "      <td>0</td>\n",
       "    </tr>\n",
       "    <tr>\n",
       "      <th>423</th>\n",
       "      <td>2021-05-09 08:01</td>\n",
       "      <td>Rilès</td>\n",
       "      <td>I LOVE YOU</td>\n",
       "      <td>0</td>\n",
       "    </tr>\n",
       "    <tr>\n",
       "      <th>1170</th>\n",
       "      <td>2021-05-23 00:28</td>\n",
       "      <td>Vitão</td>\n",
       "      <td>Edredom</td>\n",
       "      <td>0</td>\n",
       "    </tr>\n",
       "    <tr>\n",
       "      <th>1171</th>\n",
       "      <td>2021-05-23 00:28</td>\n",
       "      <td>Costa Gold</td>\n",
       "      <td>Copo Roxo</td>\n",
       "      <td>0</td>\n",
       "    </tr>\n",
       "    <tr>\n",
       "      <th>1175</th>\n",
       "      <td>2021-05-23 00:28</td>\n",
       "      <td>ResenhaDaBlakk</td>\n",
       "      <td>Não Tem Mais Nós Dois</td>\n",
       "      <td>0</td>\n",
       "    </tr>\n",
       "    <tr>\n",
       "      <th>1176</th>\n",
       "      <td>2021-05-23 00:28</td>\n",
       "      <td>Haikaiss</td>\n",
       "      <td>Má-Temática</td>\n",
       "      <td>0</td>\n",
       "    </tr>\n",
       "  </tbody>\n",
       "</table>\n",
       "</div>"
      ],
      "text/plain": [
       "               endTime      artistName  \\\n",
       "18    2021-05-02 22:49      Mc Livinho   \n",
       "19    2021-05-02 22:49     Mc Don Juan   \n",
       "20    2021-05-02 22:49            Malu   \n",
       "225   2021-05-09 00:07        2STRANGE   \n",
       "341   2021-05-09 04:58    Deejay Lucca   \n",
       "423   2021-05-09 08:01           Rilès   \n",
       "1170  2021-05-23 00:28           Vitão   \n",
       "1171  2021-05-23 00:28      Costa Gold   \n",
       "1175  2021-05-23 00:28  ResenhaDaBlakk   \n",
       "1176  2021-05-23 00:28        Haikaiss   \n",
       "\n",
       "                                    trackName  msPlayed  \n",
       "18    Ela é Espetacular (Mulher Kama Sutra 2)         0  \n",
       "19                   Preta do Cabelo Cacheado         0  \n",
       "20               Disco Arranhado - Funk Remix         0  \n",
       "225                            Quantas Vezes?         0  \n",
       "341                 Vai no Chão Com o Rabetão         0  \n",
       "423                                I LOVE YOU         0  \n",
       "1170                                  Edredom         0  \n",
       "1171                                Copo Roxo         0  \n",
       "1175                    Não Tem Mais Nós Dois         0  \n",
       "1176                              Má-Temática         0  "
      ]
     },
     "execution_count": 83,
     "metadata": {},
     "output_type": "execute_result"
    }
   ],
   "source": [
    "msPlayed_zero = sptf.query('msPlayed <= 0')\n",
    "msPlayed_zero.head(10)"
   ]
  },
  {
   "cell_type": "markdown",
   "id": "f0949ab9-89ca-4ff1-b245-8511d74a6f66",
   "metadata": {},
   "source": [
    "Após uma pequena análise, podemos notar que as músicas que tem o valor 0(zero), são musicas que não tiveram o seu tempo escutado contabilizado. Com isso, caso seja feita alguma análise mais complexa futuramente, esses valores podem ser considerados _outliers_.\n",
    "\n",
    "O que são _outliers_:\n",
    "São valores que os diferencia drasticamente de todos os outros, ou que fogem do padrão dos valores, podendo causar anomalias nos resultados de algoritmos mais complexos, como uma Regressão Linear.\n",
    "\n",
    "Vejamos isso em um grafico scatter em um  diagrama de caixa:"
   ]
  },
  {
   "cell_type": "code",
   "execution_count": 84,
   "id": "db1fe975-bb92-4199-8ae4-67245e037cb9",
   "metadata": {},
   "outputs": [
    {
     "name": "stdout",
     "output_type": "stream",
     "text": [
      "scatter:\n"
     ]
    },
    {
     "data": {
      "image/png": "[encoded data removed]",
      "text/plain": [
       "<Figure size 864x432 with 1 Axes>"
      ]
     },
     "metadata": {
      "needs_background": "light"
     },
     "output_type": "display_data"
    },
    {
     "name": "stdout",
     "output_type": "stream",
     "text": [
      "boxplot:\n"
     ]
    },
    {
     "data": {
      "image/png": "[encoded data removed]",
      "text/plain": [
       "<Figure size 432x288 with 1 Axes>"
      ]
     },
     "metadata": {
      "needs_background": "light"
     },
     "output_type": "display_data"
    }
   ],
   "source": [
    "plt.figure(figsize=(12, 6))\n",
    "plt.scatter(sptf['msPlayed'], sptf['msPlayed'])\n",
    "plt.xlabel('msPlayed')\n",
    "print('scatter:')\n",
    "plt.show()\n",
    "\n",
    "sns.boxplot(y=sptf['msPlayed'])\n",
    "print('boxplot:')\n",
    "plt.show()"
   ]
  },
  {
   "cell_type": "markdown",
   "id": "452b9ca8-d425-477c-8a54-5c56c7594a48",
   "metadata": {},
   "source": [
    "Verificando os gráficos, podemos notar uma coisa estranha. Existe um valor extremamente distante de todos os outros, um outlier. Porem como são os meus dados do Spotify, me questionei \"Será que tem uma música muito a mais que todas as outras?\". Foi aí que fui investigar, e descobri que havia realmente escutado toda essa quantia de horas.\n",
    "### Mas esses outliers não vão desbalancear toda a minha análise? \n",
    "\n",
    "![img](https://i.pinimg.com/originals/f1/85/3a/f1853a77c203e8bb4e6615ae7b62d325.gif)\n",
    "\n",
    "De certa forma sim, porem às vezes as informações que precisamos estão nesses outliers, e é o nosso caso.\n",
    "\n",
    "Outra coisa que percebi, é que os dados que o spotify disponibilizou não estão 100% corretos. Pude ver músicas que já ouvido muitas vezes com o msPlayed ZERADO!\n",
    "\n",
    "Vacilou heim Spotfy...\n",
    "\n",
    "Mas tudo bem, deixamos passar dessa vez :D\n",
    "\n",
    "# Limpeza de Dados\n",
    "\n",
    "Agora que entendemo os dados que iremos trabalhar, muitas vezes nos deparamos com informações inconsistentes. Então devemos executar uma série de limpeza ou alteração dessas informações.\n",
    "\n",
    "- Para verificar as linas com NaN use:\n",
    "\n",
    "Caso tenhamos valores valorem omissos como None, numpy.NaN, ou até mesmo Vazio, conseguimos identificá-los através do comando _notna()_, onde nos retorna a própria tabela, porem com os valores boleanos, representando se há ou não um valor NaN naquele índice.\n",
    "\n",
    "- True  - Não tem NaN\n",
    "- False - Tem NaN\n",
    "\n",
    "Iremos calcular a quantia total de informações NaN, e como podemos ver, não ha nenhum valor NaN."
   ]
  },
  {
   "cell_type": "code",
   "execution_count": 85,
   "id": "87f0a3d1-9a2b-4e3e-9567-8cb3bbb1e214",
   "metadata": {},
   "outputs": [
    {
     "data": {
      "text/plain": [
       "endTime  artistName  trackName  msPlayed\n",
       "True     True        True       True        27154\n",
       "dtype: int64"
      ]
     },
     "execution_count": 85,
     "metadata": {},
     "output_type": "execute_result"
    }
   ],
   "source": [
    "sptf.notna().value_counts()"
   ]
  },
  {
   "cell_type": "markdown",
   "id": "db279899-7527-4473-bffd-f3a018f6ac30",
   "metadata": {},
   "source": [
    "Como não temos nenhum dado NaN, o que podemos fazer é retirar todas as músicas que tenha o msPlayed menor ou igual a 0(zero)."
   ]
  },
  {
   "cell_type": "code",
   "execution_count": 86,
   "id": "9ec9f659-84d5-4aee-81c4-6dd517061367",
   "metadata": {},
   "outputs": [
    {
     "data": {
      "text/html": [
       "<div>\n",
       "<style scoped>\n",
       "    .dataframe tbody tr th:only-of-type {\n",
       "        vertical-align: middle;\n",
       "    }\n",
       "\n",
       "    .dataframe tbody tr th {\n",
       "        vertical-align: top;\n",
       "    }\n",
       "\n",
       "    .dataframe thead th {\n",
       "        text-align: right;\n",
       "    }\n",
       "</style>\n",
       "<table border=\"1\" class=\"dataframe\">\n",
       "  <thead>\n",
       "    <tr style=\"text-align: right;\">\n",
       "      <th></th>\n",
       "      <th>endTime</th>\n",
       "      <th>artistName</th>\n",
       "      <th>trackName</th>\n",
       "      <th>msPlayed</th>\n",
       "    </tr>\n",
       "  </thead>\n",
       "  <tbody>\n",
       "    <tr>\n",
       "      <th>25330</th>\n",
       "      <td>2022-03-25 22:51</td>\n",
       "      <td>Rilès</td>\n",
       "      <td>ME FALLING</td>\n",
       "      <td>10</td>\n",
       "    </tr>\n",
       "  </tbody>\n",
       "</table>\n",
       "</div>"
      ],
      "text/plain": [
       "                endTime artistName   trackName  msPlayed\n",
       "25330  2022-03-25 22:51      Rilès  ME FALLING        10"
      ]
     },
     "execution_count": 86,
     "metadata": {},
     "output_type": "execute_result"
    }
   ],
   "source": [
    "sptf = sptf.query('msPlayed > 0')\n",
    "\n",
    "# musica com menos tempo escutado\n",
    "sptf.query('msPlayed <= 10')"
   ]
  },
  {
   "cell_type": "markdown",
   "id": "5a703723-9aae-4eca-b11d-50f92deb82f8",
   "metadata": {},
   "source": [
    "# Agregação\n",
    "Na parte de agregação, buscamos resumir os dados através de métricas e estatísticas como soma, media, etc. para extrair insigths. \n",
    "- Insigths - É a capacidade de tirar conclusões sobre os dados\n",
    "\n",
    "O que precisaremos fazer é buscar as músicas mais ouvidas e também os artistas mais ouvidos. \n",
    "\n",
    "#### Abaixo observaremos os 10 artistas mais escutados."
   ]
  },
  {
   "cell_type": "code",
   "execution_count": 87,
   "id": "d4c2e000-7de7-41f0-b7cf-7d0c1bf9f18e",
   "metadata": {},
   "outputs": [
    {
     "data": {
      "text/html": [
       "<div>\n",
       "<style scoped>\n",
       "    .dataframe tbody tr th:only-of-type {\n",
       "        vertical-align: middle;\n",
       "    }\n",
       "\n",
       "    .dataframe tbody tr th {\n",
       "        vertical-align: top;\n",
       "    }\n",
       "\n",
       "    .dataframe thead th {\n",
       "        text-align: right;\n",
       "    }\n",
       "</style>\n",
       "<table border=\"1\" class=\"dataframe\">\n",
       "  <thead>\n",
       "    <tr style=\"text-align: right;\">\n",
       "      <th></th>\n",
       "      <th>artistName</th>\n",
       "      <th>msPlayed</th>\n",
       "    </tr>\n",
       "  </thead>\n",
       "  <tbody>\n",
       "    <tr>\n",
       "      <th>944</th>\n",
       "      <td>Matuê</td>\n",
       "      <td>229298810</td>\n",
       "    </tr>\n",
       "    <tr>\n",
       "      <th>1382</th>\n",
       "      <td>The Weeknd</td>\n",
       "      <td>183780747</td>\n",
       "    </tr>\n",
       "    <tr>\n",
       "      <th>1154</th>\n",
       "      <td>Pineapple StormTv</td>\n",
       "      <td>162382462</td>\n",
       "    </tr>\n",
       "    <tr>\n",
       "      <th>723</th>\n",
       "      <td>Khalid</td>\n",
       "      <td>137251286</td>\n",
       "    </tr>\n",
       "    <tr>\n",
       "      <th>703</th>\n",
       "      <td>Kalli</td>\n",
       "      <td>136447279</td>\n",
       "    </tr>\n",
       "    <tr>\n",
       "      <th>1486</th>\n",
       "      <td>Xamã</td>\n",
       "      <td>114000607</td>\n",
       "    </tr>\n",
       "    <tr>\n",
       "      <th>628</th>\n",
       "      <td>Japa</td>\n",
       "      <td>98977275</td>\n",
       "    </tr>\n",
       "    <tr>\n",
       "      <th>1105</th>\n",
       "      <td>Orgânico</td>\n",
       "      <td>86871420</td>\n",
       "    </tr>\n",
       "    <tr>\n",
       "      <th>1524</th>\n",
       "      <td>Zé Neto &amp; Cristiano</td>\n",
       "      <td>78040347</td>\n",
       "    </tr>\n",
       "    <tr>\n",
       "      <th>1277</th>\n",
       "      <td>Sidoka</td>\n",
       "      <td>75987826</td>\n",
       "    </tr>\n",
       "  </tbody>\n",
       "</table>\n",
       "</div>"
      ],
      "text/plain": [
       "               artistName   msPlayed\n",
       "944                 Matuê  229298810\n",
       "1382           The Weeknd  183780747\n",
       "1154    Pineapple StormTv  162382462\n",
       "723                Khalid  137251286\n",
       "703                 Kalli  136447279\n",
       "1486                 Xamã  114000607\n",
       "628                  Japa   98977275\n",
       "1105             Orgânico   86871420\n",
       "1524  Zé Neto & Cristiano   78040347\n",
       "1277               Sidoka   75987826"
      ]
     },
     "execution_count": 87,
     "metadata": {},
     "output_type": "execute_result"
    }
   ],
   "source": [
    "artistas = sptf[['artistName','msPlayed']].groupby('artistName').agg('sum').reset_index()\n",
    "artistas = artistas.sort_values(by='msPlayed' ,ascending=False)\n",
    "artistas_top_10 = artistas[:10]\n",
    "artistas_top_10"
   ]
  },
  {
   "cell_type": "markdown",
   "id": "ac26a294-439e-4a0d-84f6-a2d089851344",
   "metadata": {},
   "source": [
    "#### Abaixo observaremos as 10 musicas mais escutadas."
   ]
  },
  {
   "cell_type": "code",
   "execution_count": 88,
   "id": "9b129cf3-f403-4e54-96ca-7cf5f612e309",
   "metadata": {
    "tags": []
   },
   "outputs": [
    {
     "data": {
      "text/html": [
       "<div>\n",
       "<style scoped>\n",
       "    .dataframe tbody tr th:only-of-type {\n",
       "        vertical-align: middle;\n",
       "    }\n",
       "\n",
       "    .dataframe tbody tr th {\n",
       "        vertical-align: top;\n",
       "    }\n",
       "\n",
       "    .dataframe thead th {\n",
       "        text-align: right;\n",
       "    }\n",
       "</style>\n",
       "<table border=\"1\" class=\"dataframe\">\n",
       "  <thead>\n",
       "    <tr style=\"text-align: right;\">\n",
       "      <th></th>\n",
       "      <th>endTime</th>\n",
       "      <th>artistName</th>\n",
       "      <th>trackName</th>\n",
       "      <th>msPlayed</th>\n",
       "    </tr>\n",
       "  </thead>\n",
       "  <tbody>\n",
       "    <tr>\n",
       "      <th>2387</th>\n",
       "      <td>2021-06-06 11:39</td>\n",
       "      <td>Flow Podcast</td>\n",
       "      <td>DA CUNHA E GABRIEL MONTEIRO - Flow Podcast #386</td>\n",
       "      <td>10881579</td>\n",
       "    </tr>\n",
       "    <tr>\n",
       "      <th>16846</th>\n",
       "      <td>2021-10-30 03:06</td>\n",
       "      <td>Músicas Zen - Zen Music</td>\n",
       "      <td>Música para Dormir Rápido e Relaxar Profundame...</td>\n",
       "      <td>2546068</td>\n",
       "    </tr>\n",
       "    <tr>\n",
       "      <th>14586</th>\n",
       "      <td>2021-09-28 19:09</td>\n",
       "      <td>Pineapple StormTv</td>\n",
       "      <td>Poesia Acústica #5: Teu Popô - Remix</td>\n",
       "      <td>1696610</td>\n",
       "    </tr>\n",
       "    <tr>\n",
       "      <th>11377</th>\n",
       "      <td>2021-08-29 19:16</td>\n",
       "      <td>Pineapple StormTv</td>\n",
       "      <td>Poesia Acústica #6: Era uma Vez</td>\n",
       "      <td>1067825</td>\n",
       "    </tr>\n",
       "    <tr>\n",
       "      <th>831</th>\n",
       "      <td>2021-05-14 12:53</td>\n",
       "      <td>Grupo Menos É Mais</td>\n",
       "      <td>Pot-Pourri: Melhor Eu Ir / Ligando Os Fatos / ...</td>\n",
       "      <td>1008107</td>\n",
       "    </tr>\n",
       "    <tr>\n",
       "      <th>13096</th>\n",
       "      <td>2021-09-14 20:38</td>\n",
       "      <td>Luiz Lins</td>\n",
       "      <td>Saudade</td>\n",
       "      <td>1001669</td>\n",
       "    </tr>\n",
       "    <tr>\n",
       "      <th>12553</th>\n",
       "      <td>2021-09-09 23:08</td>\n",
       "      <td>Konai</td>\n",
       "      <td>Se o Sol Não Voltar Amanhã</td>\n",
       "      <td>961426</td>\n",
       "    </tr>\n",
       "    <tr>\n",
       "      <th>22495</th>\n",
       "      <td>2022-01-26 17:30</td>\n",
       "      <td>Sidoka</td>\n",
       "      <td>QUEM É ELA, PT. I</td>\n",
       "      <td>858034</td>\n",
       "    </tr>\n",
       "    <tr>\n",
       "      <th>13045</th>\n",
       "      <td>2021-09-14 03:49</td>\n",
       "      <td>Burn-O</td>\n",
       "      <td>Saturno</td>\n",
       "      <td>815992</td>\n",
       "    </tr>\n",
       "    <tr>\n",
       "      <th>16643</th>\n",
       "      <td>2021-10-25 18:26</td>\n",
       "      <td>Antonio Vivaldi</td>\n",
       "      <td>Stabat mater, RV 621: Stabat Mater dolorosa</td>\n",
       "      <td>810467</td>\n",
       "    </tr>\n",
       "  </tbody>\n",
       "</table>\n",
       "</div>"
      ],
      "text/plain": [
       "                endTime               artistName  \\\n",
       "2387   2021-06-06 11:39             Flow Podcast   \n",
       "16846  2021-10-30 03:06  Músicas Zen - Zen Music   \n",
       "14586  2021-09-28 19:09        Pineapple StormTv   \n",
       "11377  2021-08-29 19:16        Pineapple StormTv   \n",
       "831    2021-05-14 12:53       Grupo Menos É Mais   \n",
       "13096  2021-09-14 20:38                Luiz Lins   \n",
       "12553  2021-09-09 23:08                    Konai   \n",
       "22495  2022-01-26 17:30                   Sidoka   \n",
       "13045  2021-09-14 03:49                   Burn-O   \n",
       "16643  2021-10-25 18:26          Antonio Vivaldi   \n",
       "\n",
       "                                               trackName  msPlayed  \n",
       "2387     DA CUNHA E GABRIEL MONTEIRO - Flow Podcast #386  10881579  \n",
       "16846  Música para Dormir Rápido e Relaxar Profundame...   2546068  \n",
       "14586               Poesia Acústica #5: Teu Popô - Remix   1696610  \n",
       "11377                    Poesia Acústica #6: Era uma Vez   1067825  \n",
       "831    Pot-Pourri: Melhor Eu Ir / Ligando Os Fatos / ...   1008107  \n",
       "13096                                            Saudade   1001669  \n",
       "12553                         Se o Sol Não Voltar Amanhã    961426  \n",
       "22495                                  QUEM É ELA, PT. I    858034  \n",
       "13045                                            Saturno    815992  \n",
       "16643        Stabat mater, RV 621: Stabat Mater dolorosa    810467  "
      ]
     },
     "execution_count": 88,
     "metadata": {},
     "output_type": "execute_result"
    }
   ],
   "source": [
    "musicas = sptf.sort_values(by='msPlayed' ,ascending=False)\n",
    "musicas_top_10 = musicas[:10]\n",
    "musicas_top_10"
   ]
  },
  {
   "cell_type": "markdown",
   "id": "04e8c62c-ccd9-479f-9f03-a4ed28af23ea",
   "metadata": {},
   "source": [
    "Vamos também criar mais uma coluna como as posição do ranking."
   ]
  },
  {
   "cell_type": "code",
   "execution_count": 89,
   "id": "5bf6027a-76ea-4e24-8d45-53a41de05ccb",
   "metadata": {},
   "outputs": [
    {
     "name": "stderr",
     "output_type": "stream",
     "text": [
      "/tmp/ipykernel_90/2023364503.py:3: SettingWithCopyWarning: \n",
      "A value is trying to be set on a copy of a slice from a DataFrame.\n",
      "Try using .loc[row_indexer,col_indexer] = value instead\n",
      "\n",
      "See the caveats in the documentation: https://pandas.pydata.org/pandas-docs/stable/user_guide/indexing.html#returning-a-view-versus-a-copy\n",
      "  artistas_top_10['position'] = positions\n",
      "/tmp/ipykernel_90/2023364503.py:4: SettingWithCopyWarning: \n",
      "A value is trying to be set on a copy of a slice from a DataFrame.\n",
      "Try using .loc[row_indexer,col_indexer] = value instead\n",
      "\n",
      "See the caveats in the documentation: https://pandas.pydata.org/pandas-docs/stable/user_guide/indexing.html#returning-a-view-versus-a-copy\n",
      "  musicas_top_10['position'] = positions\n"
     ]
    }
   ],
   "source": [
    "positions = ['1º','2º','3º','4º','5º','6º','7º','8º','9º','10º']\n",
    "\n",
    "artistas_top_10['position'] = positions\n",
    "musicas_top_10['position'] = positions"
   ]
  },
  {
   "cell_type": "markdown",
   "id": "f37f03dc-df82-493e-a8c5-773c69e199d9",
   "metadata": {},
   "source": [
    "Com isso, já temos tudo que precisamos para fazer uma aplicação parecida com Spotify Wrapped.\n",
    "\n",
    "# Visualização\n",
    "\n",
    "Na etapa de visualização, é buscado criar gráficos que melhor representem os insights, gerados por agregação.\n",
    "\n",
    "Para ficar um pouco mais fácil para pessoas leigas verem essas informações, iremos plotar um barplot."
   ]
  },
  {
   "cell_type": "code",
   "execution_count": 90,
   "id": "305a9121-d63d-4bfe-a545-87184268c525",
   "metadata": {},
   "outputs": [
    {
     "data": {
      "text/html": [
       "<div>\n",
       "<style scoped>\n",
       "    .dataframe tbody tr th:only-of-type {\n",
       "        vertical-align: middle;\n",
       "    }\n",
       "\n",
       "    .dataframe tbody tr th {\n",
       "        vertical-align: top;\n",
       "    }\n",
       "\n",
       "    .dataframe thead th {\n",
       "        text-align: right;\n",
       "    }\n",
       "</style>\n",
       "<table border=\"1\" class=\"dataframe\">\n",
       "  <thead>\n",
       "    <tr style=\"text-align: right;\">\n",
       "      <th></th>\n",
       "      <th>artistName</th>\n",
       "      <th>msPlayed</th>\n",
       "      <th>position</th>\n",
       "    </tr>\n",
       "  </thead>\n",
       "  <tbody>\n",
       "    <tr>\n",
       "      <th>944</th>\n",
       "      <td>Matuê</td>\n",
       "      <td>229298810</td>\n",
       "      <td>1º</td>\n",
       "    </tr>\n",
       "    <tr>\n",
       "      <th>1382</th>\n",
       "      <td>The Weeknd</td>\n",
       "      <td>183780747</td>\n",
       "      <td>2º</td>\n",
       "    </tr>\n",
       "    <tr>\n",
       "      <th>1154</th>\n",
       "      <td>Pineapple StormTv</td>\n",
       "      <td>162382462</td>\n",
       "      <td>3º</td>\n",
       "    </tr>\n",
       "    <tr>\n",
       "      <th>723</th>\n",
       "      <td>Khalid</td>\n",
       "      <td>137251286</td>\n",
       "      <td>4º</td>\n",
       "    </tr>\n",
       "    <tr>\n",
       "      <th>703</th>\n",
       "      <td>Kalli</td>\n",
       "      <td>136447279</td>\n",
       "      <td>5º</td>\n",
       "    </tr>\n",
       "    <tr>\n",
       "      <th>1486</th>\n",
       "      <td>Xamã</td>\n",
       "      <td>114000607</td>\n",
       "      <td>6º</td>\n",
       "    </tr>\n",
       "    <tr>\n",
       "      <th>628</th>\n",
       "      <td>Japa</td>\n",
       "      <td>98977275</td>\n",
       "      <td>7º</td>\n",
       "    </tr>\n",
       "    <tr>\n",
       "      <th>1105</th>\n",
       "      <td>Orgânico</td>\n",
       "      <td>86871420</td>\n",
       "      <td>8º</td>\n",
       "    </tr>\n",
       "    <tr>\n",
       "      <th>1524</th>\n",
       "      <td>Zé Neto &amp; Cristiano</td>\n",
       "      <td>78040347</td>\n",
       "      <td>9º</td>\n",
       "    </tr>\n",
       "    <tr>\n",
       "      <th>1277</th>\n",
       "      <td>Sidoka</td>\n",
       "      <td>75987826</td>\n",
       "      <td>10º</td>\n",
       "    </tr>\n",
       "  </tbody>\n",
       "</table>\n",
       "</div>"
      ],
      "text/plain": [
       "               artistName   msPlayed position\n",
       "944                 Matuê  229298810       1º\n",
       "1382           The Weeknd  183780747       2º\n",
       "1154    Pineapple StormTv  162382462       3º\n",
       "723                Khalid  137251286       4º\n",
       "703                 Kalli  136447279       5º\n",
       "1486                 Xamã  114000607       6º\n",
       "628                  Japa   98977275       7º\n",
       "1105             Orgânico   86871420       8º\n",
       "1524  Zé Neto & Cristiano   78040347       9º\n",
       "1277               Sidoka   75987826      10º"
      ]
     },
     "execution_count": 90,
     "metadata": {},
     "output_type": "execute_result"
    },
    {
     "data": {
      "image/png": "[encoded data removed]",
      "text/plain": [
       "<Figure size 432x288 with 1 Axes>"
      ]
     },
     "metadata": {
      "needs_background": "light"
     },
     "output_type": "display_data"
    }
   ],
   "source": [
    "chart = sns.barplot(data=artistas_top_10,  x='artistName',y='msPlayed')\n",
    "chart.set_xticklabels(chart.get_xticklabels(), rotation=90)\n",
    "chart.set(title='Top 10 Artistas')\n",
    "artistas_top_10"
   ]
  },
  {
   "cell_type": "code",
   "execution_count": 91,
   "id": "a4a5ebc7-2164-41d9-8299-9684a95daa6c",
   "metadata": {},
   "outputs": [
    {
     "data": {
      "text/html": [
       "<div>\n",
       "<style scoped>\n",
       "    .dataframe tbody tr th:only-of-type {\n",
       "        vertical-align: middle;\n",
       "    }\n",
       "\n",
       "    .dataframe tbody tr th {\n",
       "        vertical-align: top;\n",
       "    }\n",
       "\n",
       "    .dataframe thead th {\n",
       "        text-align: right;\n",
       "    }\n",
       "</style>\n",
       "<table border=\"1\" class=\"dataframe\">\n",
       "  <thead>\n",
       "    <tr style=\"text-align: right;\">\n",
       "      <th></th>\n",
       "      <th>endTime</th>\n",
       "      <th>artistName</th>\n",
       "      <th>trackName</th>\n",
       "      <th>msPlayed</th>\n",
       "      <th>position</th>\n",
       "    </tr>\n",
       "  </thead>\n",
       "  <tbody>\n",
       "    <tr>\n",
       "      <th>2387</th>\n",
       "      <td>2021-06-06 11:39</td>\n",
       "      <td>Flow Podcast</td>\n",
       "      <td>DA CUNHA E GABRIEL MONTEIRO - Flow Podcast #386</td>\n",
       "      <td>10881579</td>\n",
       "      <td>1º</td>\n",
       "    </tr>\n",
       "    <tr>\n",
       "      <th>16846</th>\n",
       "      <td>2021-10-30 03:06</td>\n",
       "      <td>Músicas Zen - Zen Music</td>\n",
       "      <td>Música para Dormir Rápido e Relaxar Profundame...</td>\n",
       "      <td>2546068</td>\n",
       "      <td>2º</td>\n",
       "    </tr>\n",
       "    <tr>\n",
       "      <th>14586</th>\n",
       "      <td>2021-09-28 19:09</td>\n",
       "      <td>Pineapple StormTv</td>\n",
       "      <td>Poesia Acústica #5: Teu Popô - Remix</td>\n",
       "      <td>1696610</td>\n",
       "      <td>3º</td>\n",
       "    </tr>\n",
       "    <tr>\n",
       "      <th>11377</th>\n",
       "      <td>2021-08-29 19:16</td>\n",
       "      <td>Pineapple StormTv</td>\n",
       "      <td>Poesia Acústica #6: Era uma Vez</td>\n",
       "      <td>1067825</td>\n",
       "      <td>4º</td>\n",
       "    </tr>\n",
       "    <tr>\n",
       "      <th>831</th>\n",
       "      <td>2021-05-14 12:53</td>\n",
       "      <td>Grupo Menos É Mais</td>\n",
       "      <td>Pot-Pourri: Melhor Eu Ir / Ligando Os Fatos / ...</td>\n",
       "      <td>1008107</td>\n",
       "      <td>5º</td>\n",
       "    </tr>\n",
       "    <tr>\n",
       "      <th>13096</th>\n",
       "      <td>2021-09-14 20:38</td>\n",
       "      <td>Luiz Lins</td>\n",
       "      <td>Saudade</td>\n",
       "      <td>1001669</td>\n",
       "      <td>6º</td>\n",
       "    </tr>\n",
       "    <tr>\n",
       "      <th>12553</th>\n",
       "      <td>2021-09-09 23:08</td>\n",
       "      <td>Konai</td>\n",
       "      <td>Se o Sol Não Voltar Amanhã</td>\n",
       "      <td>961426</td>\n",
       "      <td>7º</td>\n",
       "    </tr>\n",
       "    <tr>\n",
       "      <th>22495</th>\n",
       "      <td>2022-01-26 17:30</td>\n",
       "      <td>Sidoka</td>\n",
       "      <td>QUEM É ELA, PT. I</td>\n",
       "      <td>858034</td>\n",
       "      <td>8º</td>\n",
       "    </tr>\n",
       "    <tr>\n",
       "      <th>13045</th>\n",
       "      <td>2021-09-14 03:49</td>\n",
       "      <td>Burn-O</td>\n",
       "      <td>Saturno</td>\n",
       "      <td>815992</td>\n",
       "      <td>9º</td>\n",
       "    </tr>\n",
       "    <tr>\n",
       "      <th>16643</th>\n",
       "      <td>2021-10-25 18:26</td>\n",
       "      <td>Antonio Vivaldi</td>\n",
       "      <td>Stabat mater, RV 621: Stabat Mater dolorosa</td>\n",
       "      <td>810467</td>\n",
       "      <td>10º</td>\n",
       "    </tr>\n",
       "  </tbody>\n",
       "</table>\n",
       "</div>"
      ],
      "text/plain": [
       "                endTime               artistName  \\\n",
       "2387   2021-06-06 11:39             Flow Podcast   \n",
       "16846  2021-10-30 03:06  Músicas Zen - Zen Music   \n",
       "14586  2021-09-28 19:09        Pineapple StormTv   \n",
       "11377  2021-08-29 19:16        Pineapple StormTv   \n",
       "831    2021-05-14 12:53       Grupo Menos É Mais   \n",
       "13096  2021-09-14 20:38                Luiz Lins   \n",
       "12553  2021-09-09 23:08                    Konai   \n",
       "22495  2022-01-26 17:30                   Sidoka   \n",
       "13045  2021-09-14 03:49                   Burn-O   \n",
       "16643  2021-10-25 18:26          Antonio Vivaldi   \n",
       "\n",
       "                                               trackName  msPlayed position  \n",
       "2387     DA CUNHA E GABRIEL MONTEIRO - Flow Podcast #386  10881579       1º  \n",
       "16846  Música para Dormir Rápido e Relaxar Profundame...   2546068       2º  \n",
       "14586               Poesia Acústica #5: Teu Popô - Remix   1696610       3º  \n",
       "11377                    Poesia Acústica #6: Era uma Vez   1067825       4º  \n",
       "831    Pot-Pourri: Melhor Eu Ir / Ligando Os Fatos / ...   1008107       5º  \n",
       "13096                                            Saudade   1001669       6º  \n",
       "12553                         Se o Sol Não Voltar Amanhã    961426       7º  \n",
       "22495                                  QUEM É ELA, PT. I    858034       8º  \n",
       "13045                                            Saturno    815992       9º  \n",
       "16643        Stabat mater, RV 621: Stabat Mater dolorosa    810467      10º  "
      ]
     },
     "execution_count": 91,
     "metadata": {},
     "output_type": "execute_result"
    },
    {
     "data": {
      "image/png": "[encoded data removed]",
      "text/plain": [
       "<Figure size 432x288 with 1 Axes>"
      ]
     },
     "metadata": {
      "needs_background": "light"
     },
     "output_type": "display_data"
    }
   ],
   "source": [
    "chart = sns.barplot(data=musicas_top_10, x=positions,y='msPlayed')\n",
    "chart.set_xticklabels(chart.get_xticklabels(), size=10)\n",
    "chart.set(title='Top 10 Músicas')\n",
    "musicas_top_10"
   ]
  },
  {
   "cell_type": "markdown",
   "id": "c96a28b0-561d-47f4-9567-4db6d36224fd",
   "metadata": {
    "tags": []
   },
   "source": [
    "# Storytelling\n",
    "\n",
    "Na etapa de storytelling, buscamos organizar as conclusões que temos dos dados, através de um formato de história, para facilitar a transmissão do conhecimento.\n",
    "\n",
    "Baseado nos dados disponibilizados pelo Spotify, foi extraído os 10 artistas mais estucados, e as 10 musicas mais escutadas no último ano, sendo que:\n",
    "- 1 Podcast\n",
    "- 1 Autio Relaxante\n",
    "- 8 Músicas de diversos gêneros\n",
    "\n",
    "Nota-se que o usuário tem um gosto musical muito diversificado. Também podemos supor que o usuário possa ter alguma dificuldade para dormir, visto que a segunda música mais ouvida é relacionada ao relaxamento profundo para dormir mais facilmente. Também pode-se perceber que o usuário gosta de conhecimentos gerais, visto que escuta um Podcast com o foco na diversidade.\n",
    "\n",
    "Portanto, recomenda-se aumentar a relação do usurário com a plataforma, recomendando novos podcast, com o formato semelhante ao que já escuta. Novos sons relaxantes para manter a qualidade do sono ainda melhor, e o anúncio de novos lançamentos do artista \"Pineapple StormTv\", sendo que ocupa duas posições de músicas mais ouvidas e está no Top 3 artistas mais escutados."
   ]
  }
 ],
 "metadata": {
  "kernelspec": {
   "display_name": "Python 3 (ipykernel)",
   "language": "python",
   "name": "python3"
  },
  "language_info": {
   "codemirror_mode": {
    "name": "ipython",
    "version": 3
   },
   "file_extension": ".py",
   "mimetype": "text/x-python",
   "name": "python",
   "nbconvert_exporter": "python",
   "pygments_lexer": "ipython3",
   "version": "3.9.10"
  }
 },
 "nbformat": 4,
 "nbformat_minor": 5
}
